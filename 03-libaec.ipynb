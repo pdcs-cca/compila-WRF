{
 "cells": [
  {
   "cell_type": "markdown",
   "id": "structural-mexican",
   "metadata": {},
   "source": [
    "# libaec"
   ]
  },
  {
   "cell_type": "markdown",
   "id": "complimentary-anthropology",
   "metadata": {},
   "source": [
    "## Configuración del código fuente"
   ]
  },
  {
   "cell_type": "code",
   "execution_count": null,
   "id": "classified-illustration",
   "metadata": {
    "tags": []
   },
   "outputs": [],
   "source": [
    "%%bash -l \n",
    "#Inicializar entorno para el uso de compiladores INTEL\n",
    "pwd\n",
    "SETVARS_ARGS=\"--config=/opt/software/apps/intel/oneapi/config.txt\"\n",
    "source /opt/software/apps/intel/oneapi/setvars.sh\n",
    "\n",
    "#Definir variables para el uso de los compiladores de intel \n",
    "#para la configuración del código fuente\n",
    "export CC=icc FC=ifort F77=ifort F90=ifort CXX=icpc\n",
    "export CFLAGS=\" -O3 -fPIC\"\n",
    "export CPPFLAGS=\"-I$HOME/tmp/2022/wrf/include\"\n",
    "export LDFLAGS=\"-L$HOME/tmp/2022/wrf/lib -Wl,-rpath=$HOME/tmp/2022/wrf/lib\"\n",
    "\n",
    "#Crear el directorio build  si  NO existe\n",
    "test ! -e build && mkdir -v build\n",
    "cd build\n",
    "\n",
    "#Desempaquetar código fuente \n",
    "tar xzf ../src/libaec-1.0.6.tar.gz\n",
    "cd libaec-1.0.6\n",
    "\n",
    "#Configurar el código fuentes usando los compiladores de intel\n",
    "#previamente se definieron las variables de entorno \n",
    "#CC, FC, F77, F90, CFLAGS \n",
    "\n",
    "#Se indica mediante la opción --prefix  el directorio de instalación \n",
    "./configure --prefix=$HOME/tmp/2022/wrf"
   ]
  },
  {
   "cell_type": "markdown",
   "id": "compressed-swiss",
   "metadata": {},
   "source": [
    "## Construcción o compilación de la biblioteca\n",
    "\n",
    "Se construye la biblioteca con el comando __make__ y posteriormente se realizan pruebas de uso con el comando __make check__, por último se instala la biblioteca con el comando __make install__ en el directorio indicado con la opción  __--prefix__ durante el proceso de configuración."
   ]
  },
  {
   "cell_type": "code",
   "execution_count": null,
   "id": "northern-progressive",
   "metadata": {
    "tags": []
   },
   "outputs": [],
   "source": [
    "%%bash -l \n",
    "pwd\n",
    "SETVARS_ARGS=\"--config=/opt/software/apps/intel/oneapi/config.txt\"\n",
    "source /opt/software/apps/intel/oneapi/setvars.sh \n",
    "\n",
    "#Ingresar al directorio del código fuente previamente desempaquetado \n",
    "#y configurado.  \n",
    "#Utilizar la herramienta make para la construcción de la biblioteca \n",
    "cd build/libaec-1.0.6\n",
    "make"
   ]
  },
  {
   "cell_type": "code",
   "execution_count": null,
   "id": "exempt-myanmar",
   "metadata": {},
   "outputs": [],
   "source": [
    "%%bash -l \n",
    "pwd\n",
    "SETVARS_ARGS=\"--config=/opt/software/apps/intel/oneapi/config.txt\"\n",
    "source /opt/software/apps/intel/oneapi/setvars.sh\n",
    "\n",
    "cd build/libaec-1.0.6\n",
    "make install"
   ]
  },
  {
   "cell_type": "markdown",
   "id": "attended-burden",
   "metadata": {},
   "source": [
    "## Contenido del directorio  $HOME/tmp/2022/wrf "
   ]
  },
  {
   "cell_type": "code",
   "execution_count": null,
   "id": "authorized-official",
   "metadata": {},
   "outputs": [],
   "source": [
    "%%bash \n",
    "\n",
    "tree $HOME/tmp/2022/wrf "
   ]
  }
 ],
 "metadata": {
  "kernelspec": {
   "display_name": "Python 3",
   "language": "python",
   "name": "python3"
  },
  "language_info": {
   "codemirror_mode": {
    "name": "ipython",
    "version": 3
   },
   "file_extension": ".py",
   "mimetype": "text/x-python",
   "name": "python",
   "nbconvert_exporter": "python",
   "pygments_lexer": "ipython3",
   "version": "3.8.8"
  }
 },
 "nbformat": 4,
 "nbformat_minor": 5
}
