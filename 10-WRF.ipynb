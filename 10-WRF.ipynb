{
 "cells": [
  {
   "cell_type": "markdown",
   "id": "lovely-jenny",
   "metadata": {},
   "source": [
    "# WRF"
   ]
  },
  {
   "cell_type": "markdown",
   "id": "forty-think",
   "metadata": {},
   "source": [
    "## Configuración del código fuente"
   ]
  },
  {
   "cell_type": "code",
   "execution_count": null,
   "id": "controlled-knitting",
   "metadata": {
    "tags": []
   },
   "outputs": [],
   "source": [
    "%%bash -l \n",
    "\n",
    "cd $HOME/tmp/2022/wrf\n",
    "tar xzf ../src/WRF-4.3.3.tar.gz"
   ]
  },
  {
   "cell_type": "code",
   "execution_count": null,
   "id": "excited-prisoner",
   "metadata": {},
   "outputs": [],
   "source": [
    "%%bash -l \n",
    "\n",
    "cd $HOME/tmp/2022/wrf/WRF-4.3.3\n",
    "ls -F"
   ]
  },
  {
   "cell_type": "markdown",
   "id": "intense-victoria",
   "metadata": {},
   "source": [
    "## Definición variables para la configuración del código fuente \n",
    "\n",
    "~~~bash\n",
    "SETVARS_ARGS=\"--config=/opt/software/apps/intel/oneapi/config.txt\"\n",
    "source /opt/software/apps/intel/oneapi/setvars.sh \n",
    "\n",
    "export NETCDF=$HOME/tmp/2022/wrf\n",
    "\n",
    "export HDF5=$HOME/tmp/2022/wrf\n",
    "\n",
    "export JASPERINC=$HOME/tmp/2022/wrf/include\n",
    "\n",
    "export JASPERLIB=$HOME/tmp/2022/wrf/lib\n",
    "\n",
    "export PATH=$HOME/tmp/2022/wrf/bin:$PATH\n",
    "~~~ "
   ]
  },
  {
   "cell_type": "markdown",
   "id": "worthy-italy",
   "metadata": {},
   "source": [
    "## El script de configuración  __configure__"
   ]
  },
  {
   "cell_type": "markdown",
   "id": "close-cisco",
   "metadata": {
    "tags": []
   },
   "source": [
    "~~~bash\n",
    "./configure \n",
    "checking for perl5... no\n",
    "checking for perl... found /usr/bin/perl (perl)\n",
    "Will use NETCDF in dir: /home/soporte/tmp/2022/wrf\n",
    "Will use HDF5 in dir: /home/soporte/tmp/2022/wrf\n",
    "PHDF5 not set in environment. Will configure WRF for use without.\n",
    "Will use 'time' to report timing information\n",
    "\n",
    "\n",
    "If you REALLY want Grib2 output from WRF, modify the arch/Config.pl script.\n",
    "Right now you are not getting the Jasper lib, from the environment, compiled into WRF.\n",
    "\n",
    "------------------------------------------------------------------------\n",
    "Please select from among the following Linux x86_64 options:\n",
    "\n",
    "  1. (serial)   2. (smpar)   3. (dmpar)   4. (dm+sm)   PGI (pgf90/gcc)\n",
    "  5. (serial)   6. (smpar)   7. (dmpar)   8. (dm+sm)   PGI (pgf90/pgcc): SGI MPT\n",
    "  9. (serial)  10. (smpar)  11. (dmpar)  12. (dm+sm)   PGI (pgf90/gcc): PGI accelerator\n",
    " 13. (serial)  14. (smpar)  15. (dmpar)  16. (dm+sm)   INTEL (ifort/icc)\n",
    "                                         17. (dm+sm)   INTEL (ifort/icc): Xeon Phi (MIC architecture)\n",
    " 18. (serial)  19. (smpar)  20. (dmpar)  21. (dm+sm)   INTEL (ifort/icc): Xeon (SNB with AVX mods)\n",
    " 22. (serial)  23. (smpar)  24. (dmpar)  25. (dm+sm)   INTEL (ifort/icc): SGI MPT\n",
    " 26. (serial)  27. (smpar)  28. (dmpar)  29. (dm+sm)   INTEL (ifort/icc): IBM POE\n",
    " 30. (serial)               31. (dmpar)                PATHSCALE (pathf90/pathcc)\n",
    " 32. (serial)  33. (smpar)  34. (dmpar)  35. (dm+sm)   GNU (gfortran/gcc)\n",
    " 36. (serial)  37. (smpar)  38. (dmpar)  39. (dm+sm)   IBM (xlf90_r/cc_r)\n",
    " 40. (serial)  41. (smpar)  42. (dmpar)  43. (dm+sm)   PGI (ftn/gcc): Cray XC CLE\n",
    " 44. (serial)  45. (smpar)  46. (dmpar)  47. (dm+sm)   CRAY CCE (ftn $(NOOMP)/cc): Cray XE and XC\n",
    " 48. (serial)  49. (smpar)  50. (dmpar)  51. (dm+sm)   INTEL (ftn/icc): Cray XC\n",
    " 52. (serial)  53. (smpar)  54. (dmpar)  55. (dm+sm)   PGI (pgf90/pgcc)\n",
    " 56. (serial)  57. (smpar)  58. (dmpar)  59. (dm+sm)   PGI (pgf90/gcc): -f90=pgf90\n",
    " 60. (serial)  61. (smpar)  62. (dmpar)  63. (dm+sm)   PGI (pgf90/pgcc): -f90=pgf90\n",
    " 64. (serial)  65. (smpar)  66. (dmpar)  67. (dm+sm)   INTEL (ifort/icc): HSW/BDW\n",
    " 68. (serial)  69. (smpar)  70. (dmpar)  71. (dm+sm)   INTEL (ifort/icc): KNL MIC\n",
    " 72. (serial)  73. (smpar)  74. (dmpar)  75. (dm+sm)   FUJITSU (frtpx/fccpx): FX10/FX100 SPARC64 IXfx/Xlfx\n",
    "\n",
    "Enter selection [1-75] : \n",
    "~~~"
   ]
  },
  {
   "cell_type": "markdown",
   "id": "north-technical",
   "metadata": {},
   "source": [
    "## Se debe modificar el script arch/Config.pl para habilitar el uso de GRIB2\n",
    "\n",
    "vim +243 arch/Config.pl"
   ]
  },
  {
   "cell_type": "markdown",
   "id": "arranged-gallery",
   "metadata": {},
   "source": [
    "~~~bash\n",
    "checking for perl5... no\n",
    "checking for perl... found /usr/bin/perl (perl)\n",
    "Will use NETCDF in dir: /home/soporte/tmp/2022/wrf\n",
    "Will use HDF5 in dir: /home/soporte/tmp/2022/wrf\n",
    "PHDF5 not set in environment. Will configure WRF for use without.\n",
    "Will use 'time' to report timing information\n",
    "Configuring to use jasper library to build Grib2 I/O...\n",
    "  $JASPERLIB = /home/soporte/tmp/2022/wrf/lib\n",
    "  $JASPERINC = /home/soporte/tmp/2022/wrf/include\n",
    "------------------------------------------------------------------------\n",
    "~~~"
   ]
  },
  {
   "cell_type": "markdown",
   "id": "disabled-candle",
   "metadata": {},
   "source": [
    "## Ejecución del script para la compilación  __compile__\n",
    "\n",
    "~~~bash\n",
    "/sbin/logsave LOG00  ./compile -j 4 em_real                                                                                                                                     \n",
    "None of WRF_EM_CORE, WRF_NMM_CORE,                                                                                                                                        \n",
    "        specified in shell environment....                                                                                                                                \n",
    "copying Registry/Registry.EM to Registry/Registry                                                                                                                         \n",
    "                                                                                                                                                                          \n",
    "==============================================================================================                                                                            \n",
    "                                                                                                                                                                          \n",
    "V4.3.3                                                                                                                                                                    \n",
    "git commit cd99128aeb0da1b4f52b9b8704acc3f4cdf84ef4 1 file changed, 13 insertions(+), 14 deletions(-)                                                                     \n",
    "                                                                                                                                                                          \n",
    "Compiling: WRF_EM_CORE                                                                                                                                                    \n",
    "        \n",
    "Linux tlaloc 5.10.0-12-amd64 #1 SMP Debian 5.10.103-1 (2022-03-07) x86_64 GNU/Linux\n",
    "                                                                                     \n",
    "Intel(R) Fortran Intel(R) 64 Compiler Classic for applications running on Intel(R) 64, Version 2021.5.0 Build 20211109_000000                                                                     \n",
    "Copyright (C) 1985-2021 Intel Corporation.  All rights reserved.                                 \n",
    "                                          \n",
    "                                                                                     \n",
    "==============================================================================================                                                                                                    \n",
    "                                                                                                                                                                          \n",
    "setting parallel make -j 4\n",
    "                                                \n",
    "==============================================================================================                                                                                                    \n",
    "                                                \n",
    "The following indicate the compilers selected to build the WRF system                            \n",
    "                                                \n",
    "Serial Fortran compiler (mostly for tool generation):                                            \n",
    "which SFC                                       \n",
    "/opt/software/apps/intel/oneapi/compiler/2022.0.2/linux/bin/intel64/ifort                        \n",
    "                                                \n",
    "Serial C compiler (mostly for tool generation):                                                  \n",
    "which SCC                                       \n",
    "/opt/software/apps/intel/oneapi/compiler/2022.0.2/linux/bin/intel64/icc                          \n",
    "                                                \n",
    "Fortran compiler for the model source code:                                                      \n",
    "which FC                                        \n",
    "/opt/software/apps/intel/oneapi/mpi/2021.5.1//bin/mpif90                                         \n",
    "Will use 'time' to report timing information                                                     \n",
    "                                                \n",
    "C compiler for the model source code:           \n",
    "which CC                                        \n",
    "/opt/software/apps/intel/oneapi/mpi/2021.5.1//bin/mpicc                                          \n",
    "                                                \n",
    "==============================================================================================    \n",
    "~~~"
   ]
  }
 ],
 "metadata": {
  "kernelspec": {
   "display_name": "Python 3",
   "language": "python",
   "name": "python3"
  },
  "language_info": {
   "codemirror_mode": {
    "name": "ipython",
    "version": 3
   },
   "file_extension": ".py",
   "mimetype": "text/x-python",
   "name": "python",
   "nbconvert_exporter": "python",
   "pygments_lexer": "ipython3",
   "version": "3.8.8"
  }
 },
 "nbformat": 4,
 "nbformat_minor": 5
}
