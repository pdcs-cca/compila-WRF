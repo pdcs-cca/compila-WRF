{
 "cells": [
  {
   "cell_type": "markdown",
   "id": "extreme-lover",
   "metadata": {},
   "source": [
    "# Compilación del modelo WRF\n",
    "\n",
    "\n",
    "## Requisitos de software para la compilación del modelo WRF\n",
    "\n",
    "\n",
    "* The following Unix commands are mandatory:\n",
    "\n",
    "| | |  |\n",
    "--- | --- | ---| \n",
    "|    ar   |          head  |            sed |\n",
    "|    awk  |        hostname |     sleep|\n",
    "|    cat  |          ln     |             sort|\n",
    "|    cd   |          ls     |             tar|\n",
    "|    cp   |          make   |         touch|\n",
    "|    cut  |          mkdir  |          tr|\n",
    "|    expr |         mv      |          uname|\n",
    "|    file |            nm   |             wc|\n",
    "|    grep  |        printf  |           which|\n",
    "|    gzip  |         rm     |\n",
    "* perl 5.04 or later\n",
    "* Fortran 90 or 95, and a C compiler\n",
    "* If an MPI or OpenMP compilation is desired (required for parallel runs), MPI or OpenMP libraries are required\n",
    "* __WRF I/O API supports netCDF, pnetCDF, and PHD5, therefore one of these libraries needs to be available on the computer on which you compile and run WRF__\n",
    "* __If you plan to run a real–data case, and you plan to use Grib2 data, you must have Jasper, libPNG, and Zlib installed__\n"
   ]
  },
  {
   "cell_type": "markdown",
   "id": "seeing-pointer",
   "metadata": {},
   "source": [
    "## Comandos UNIX\n",
    "Se encuentran en la mayoría de las distribuciones  GNU/Linux "
   ]
  },
  {
   "cell_type": "code",
   "execution_count": 5,
   "id": "diverse-shape",
   "metadata": {},
   "outputs": [
    {
     "name": "stdout",
     "output_type": "stream",
     "text": [
      "\n",
      "This is perl 5, version 32, subversion 1 (v5.32.1) built for x86_64-linux-gnu-thread-multi\n",
      "(with 47 registered patches, see perl -V for more detail)\n",
      "\n",
      "Copyright 1987-2021, Larry Wall\n",
      "\n",
      "Perl may be copied only under the terms of either the Artistic License or the\n",
      "GNU General Public License, which may be found in the Perl 5 source kit.\n",
      "\n",
      "Complete documentation for Perl, including FAQ lists, should be found on\n",
      "this system using \"man perl\" or \"perldoc perl\".  If you have access to the\n",
      "Internet, point your browser at http://www.perl.org/, the Perl Home Page.\n",
      "\n"
     ]
    }
   ],
   "source": [
    "%%bash -l\n",
    "perl --version"
   ]
  },
  {
   "cell_type": "markdown",
   "id": "governing-concentration",
   "metadata": {},
   "source": [
    "## Compiladores de Intel Fortran95 y C versión 2021.5.0 "
   ]
  },
  {
   "cell_type": "code",
   "execution_count": null,
   "id": "prerequisite-bottom",
   "metadata": {},
   "outputs": [],
   "source": [
    "%%bash -l \n",
    "ml intel/oneapi/2021\n",
    "icc -v\n",
    "ifort -v"
   ]
  },
  {
   "cell_type": "markdown",
   "id": "royal-criterion",
   "metadata": {},
   "source": [
    "## Perl"
   ]
  },
  {
   "cell_type": "code",
   "execution_count": null,
   "id": "union-protection",
   "metadata": {},
   "outputs": [],
   "source": []
  },
  {
   "cell_type": "markdown",
   "id": "intensive-footwear",
   "metadata": {},
   "source": [
    "Documentación versión 3.x https://www2.mmm.ucar.edu/wrf/users/docs/user_guide_V3/contents.html\n",
    "Documentación versión 4.x https://www2.mmm.ucar.edu/wrf/users/docs/user_guide_v4/contents.html"
   ]
  }
 ],
 "metadata": {
  "kernelspec": {
   "display_name": "Python 3",
   "language": "python",
   "name": "python3"
  },
  "language_info": {
   "codemirror_mode": {
    "name": "ipython",
    "version": 3
   },
   "file_extension": ".py",
   "mimetype": "text/x-python",
   "name": "python",
   "nbconvert_exporter": "python",
   "pygments_lexer": "ipython3",
   "version": "3.8.8"
  }
 },
 "nbformat": 4,
 "nbformat_minor": 5
}
