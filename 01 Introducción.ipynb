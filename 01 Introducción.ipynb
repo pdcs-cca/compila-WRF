{
 "cells": [
  {
   "cell_type": "markdown",
   "id": "spread-chair",
   "metadata": {},
   "source": [
    "# Compilación del modelo WRF\n",
    "\n",
    "\n",
    "## Requisitos de software para la compilación del modelo WRF\n",
    "\n",
    "\n",
    "* The following Unix commands are mandatory:\n",
    "\n",
    "| | |  |\n",
    "--- | --- | ---| \n",
    "|    ar   |          head  |            sed |\n",
    "|    awk  |        hostname |     sleep|\n",
    "|    cat  |          ln     |             sort|\n",
    "|    cd   |          ls     |             tar|\n",
    "|    cp   |          make   |         touch|\n",
    "|    cut  |          mkdir  |          tr|\n",
    "|    expr |         mv      |          uname|\n",
    "|    file |            nm   |             wc|\n",
    "|    grep  |        printf  |           which|\n",
    "|    gzip  |         rm     |\n",
    "* perl 5.04 or later\n",
    "* Fortran 90 or 95, and a C compiler\n",
    "* If an MPI or OpenMP compilation is desired (required for parallel runs), MPI or OpenMP libraries are required\n",
    "* __WRF I/O API supports netCDF, pnetCDF, and PHD5, therefore one of these libraries needs to be available on the computer on which you compile and run WRF__\n",
    "* __If you plan to run a real–data case, and you plan to use Grib2 data, you must have Jasper, libPNG, and Zlib installed__\n"
   ]
  },
  {
   "cell_type": "markdown",
   "id": "agricultural-virgin",
   "metadata": {},
   "source": [
    "## Comandos UNIX y Perl\n",
    "Se encuentran en la mayoría de las distribuciones  GNU/Linux "
   ]
  },
  {
   "cell_type": "code",
   "execution_count": 8,
   "id": "uniform-telescope",
   "metadata": {},
   "outputs": [
    {
     "name": "stdout",
     "output_type": "stream",
     "text": [
      "\n",
      "This is perl 5, version 32, subversion 1 (v5.32.1) built for x86_64-linux-gnu-thread-multi\n",
      "(with 47 registered patches, see perl -V for more detail)\n",
      "\n",
      "Copyright 1987-2021, Larry Wall\n",
      "\n",
      "Perl may be copied only under the terms of either the Artistic License or the\n",
      "GNU General Public License, which may be found in the Perl 5 source kit.\n",
      "\n",
      "Complete documentation for Perl, including FAQ lists, should be found on\n",
      "this system using \"man perl\" or \"perldoc perl\".  If you have access to the\n",
      "Internet, point your browser at http://www.perl.org/, the Perl Home Page.\n",
      "\n"
     ]
    }
   ],
   "source": [
    "%%bash -l\n",
    "perl --version"
   ]
  },
  {
   "cell_type": "markdown",
   "id": "portuguese-southwest",
   "metadata": {},
   "source": [
    "## Compiladores de Intel Fortran95 y C versión 2021.5.0 "
   ]
  },
  {
   "cell_type": "code",
   "execution_count": 9,
   "id": "expanded-skiing",
   "metadata": {},
   "outputs": [
    {
     "name": "stdout",
     "output_type": "stream",
     "text": [
      "Writing oneapi.conf\n"
     ]
    }
   ],
   "source": [
    "%%writefile oneapi.conf\n",
    "default=exclude\n",
    "compiler=latest\n",
    "mpi=latest"
   ]
  },
  {
   "cell_type": "code",
   "execution_count": 10,
   "id": "rolled-investing",
   "metadata": {},
   "outputs": [
    {
     "name": "stdout",
     "output_type": "stream",
     "text": [
      "/LUSTRE/tmp/soporte/2022\n",
      " \n",
      ":: initializing oneAPI environment ...\n",
      "   bash: BASH_VERSION = 5.1.4(1)-release\n",
      "   args: Using \"$@\" for setvars.sh arguments: --config=oneapi.conf\n",
      ":: compiler -- latest\n",
      ":: mpi -- latest\n",
      ":: oneAPI environment initialized ::\n",
      " \n"
     ]
    },
    {
     "name": "stderr",
     "output_type": "stream",
     "text": [
      "icc version 2021.5.0 (gcc version 10.2.1 compatibility)\n",
      "ifort version 2021.5.0\n"
     ]
    }
   ],
   "source": [
    "%%bash -l \n",
    "pwd\n",
    "source /opt/software/apps/intel/oneapi/setvars.sh --config=oneapi.conf\n",
    "icc -v\n",
    "ifort -v"
   ]
  },
  {
   "cell_type": "markdown",
   "id": "pharmaceutical-equilibrium",
   "metadata": {},
   "source": [
    "## netCDF Fortran, netCDF C y HDF5"
   ]
  },
  {
   "cell_type": "markdown",
   "id": "excess-creek",
   "metadata": {},
   "source": [
    "WRF utiliza el formato de archivo netCDF network Common Data Form https://www.unidata.ucar.edu/software/netcdf/, en específico la biblioteca en fortran  https://docs.unidata.ucar.edu/netcdf-fortran/current/ para leer y escribir archivos netCDF.\n",
    "\n",
    "\n",
    "* Latest Release\tnetCDF-Fortran v4.5.4\n",
    "* Release Date\tJanuary 7, 2022\n",
    "* https://github.com/Unidata/netcdf-fortran\n",
    "\n"
   ]
  },
  {
   "cell_type": "markdown",
   "id": "sexual-registrar",
   "metadata": {},
   "source": [
    "La biblioteca netCDF-Fortran depende de la biblioteca netCDF-C\n",
    "\n",
    "* Latest Release\tnetCDF-C v4.8.1\n",
    "* Release Date\tAugust 23, 2021\n",
    "* https://github.com/Unidata/netcdf-c\n",
    "\n",
    "Para hacer uso de la capcidad de compresión del formato netCDF-4, se requiere instalar primero la biblioteca HDF5 \n",
    "\n",
    "* Version\tHDF5 1.10.8\n",
    "* Release Date\t2021-10-22\n",
    "* https://github.com/HDFGroup/hdf5"
   ]
  },
  {
   "cell_type": "markdown",
   "id": "material-jewel",
   "metadata": {},
   "source": [
    "## Soporte para Grib2\n",
    "The GRIB file format is designed for storing and distributing weather data. GRIB files are widely used in meteorological applications. GRIB stands for \"General Regularly distributed Information in Binary form\" and is a WMO (World Meteorological Organisation) standard format for archiving and exchanging gridded data.\n",
    "\n"
   ]
  },
  {
   "cell_type": "markdown",
   "id": "authorized-collect",
   "metadata": {},
   "source": [
    "Documentación versión 3.x https://www2.mmm.ucar.edu/wrf/users/docs/user_guide_V3/contents.html\n",
    "Documentación versión 4.x https://www2.mmm.ucar.edu/wrf/users/docs/user_guide_v4/contents.html"
   ]
  }
 ],
 "metadata": {
  "kernelspec": {
   "display_name": "Python 3",
   "language": "python",
   "name": "python3"
  },
  "language_info": {
   "codemirror_mode": {
    "name": "ipython",
    "version": 3
   },
   "file_extension": ".py",
   "mimetype": "text/x-python",
   "name": "python",
   "nbconvert_exporter": "python",
   "pygments_lexer": "ipython3",
   "version": "3.8.8"
  }
 },
 "nbformat": 4,
 "nbformat_minor": 5
}
