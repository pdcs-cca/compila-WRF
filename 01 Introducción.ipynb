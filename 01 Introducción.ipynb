{
 "cells": [
  {
   "cell_type": "markdown",
   "id": "helpful-serve",
   "metadata": {},
   "source": [
    "# Compilación del modelo WRF\n",
    "\n",
    "\n",
    "## Requisitos de software para la compilación del modelo WRF\n",
    "\n",
    "\n",
    "* The following Unix commands are mandatory:\n",
    "\n",
    "| | |  |\n",
    "--- | --- | ---| \n",
    "|    ar   |          head  |            sed |\n",
    "|    awk  |        hostname |     sleep|\n",
    "|    cat  |          ln     |             sort|\n",
    "|    cd   |          ls     |             tar|\n",
    "|    cp   |          make   |         touch|\n",
    "|    cut  |          mkdir  |          tr|\n",
    "|    expr |         mv      |          uname|\n",
    "|    file |            nm   |             wc|\n",
    "|    grep  |        printf  |           which|\n",
    "|    gzip  |         rm     |\n",
    "* perl 5.04 or later\n",
    "* Fortran 90 or 95, and a C compiler\n",
    "* If an MPI or OpenMP compilation is desired (required for parallel runs), MPI or OpenMP libraries are required\n",
    "* __WRF I/O API supports netCDF, pnetCDF, and PHD5, therefore one of these libraries needs to be available on the computer on which you compile and run WRF__\n",
    "* __If you plan to run a real–data case, and you plan to use Grib2 data, you must have Jasper, libPNG, and Zlib installed__\n"
   ]
  },
  {
   "cell_type": "markdown",
   "id": "roman-moore",
   "metadata": {},
   "source": [
    "## Comandos UNIX\n",
    "Se encuentran en la mayoría de las distribuciones  GNU/Linux "
   ]
  },
  {
   "cell_type": "code",
   "execution_count": 8,
   "id": "starting-carrier",
   "metadata": {},
   "outputs": [
    {
     "name": "stdout",
     "output_type": "stream",
     "text": [
      "\n",
      "This is perl 5, version 32, subversion 1 (v5.32.1) built for x86_64-linux-gnu-thread-multi\n",
      "(with 47 registered patches, see perl -V for more detail)\n",
      "\n",
      "Copyright 1987-2021, Larry Wall\n",
      "\n",
      "Perl may be copied only under the terms of either the Artistic License or the\n",
      "GNU General Public License, which may be found in the Perl 5 source kit.\n",
      "\n",
      "Complete documentation for Perl, including FAQ lists, should be found on\n",
      "this system using \"man perl\" or \"perldoc perl\".  If you have access to the\n",
      "Internet, point your browser at http://www.perl.org/, the Perl Home Page.\n",
      "\n"
     ]
    }
   ],
   "source": [
    "%%bash -l\n",
    "perl --version"
   ]
  },
  {
   "cell_type": "markdown",
   "id": "transparent-pound",
   "metadata": {},
   "source": [
    "## Compiladores de Intel Fortran95 y C versión 2021.5.0 "
   ]
  },
  {
   "cell_type": "code",
   "execution_count": 9,
   "id": "supreme-anxiety",
   "metadata": {},
   "outputs": [
    {
     "name": "stdout",
     "output_type": "stream",
     "text": [
      "Writing oneapi.conf\n"
     ]
    }
   ],
   "source": [
    "%%writefile oneapi.conf\n",
    "default=exclude\n",
    "compiler=latest\n",
    "mpi=latest"
   ]
  },
  {
   "cell_type": "code",
   "execution_count": null,
   "id": "growing-belarus",
   "metadata": {},
   "outputs": [],
   "source": [
    "%%bash -l \n",
    "source /opt/software/apps/intel/oneapi/setvars.sh --config=oneapi.conf\n",
    "ml intel/oneapi/2021\n",
    "icc -v\n",
    "ifort -v"
   ]
  },
  {
   "cell_type": "markdown",
   "id": "blond-fancy",
   "metadata": {},
   "source": [
    "## Perl"
   ]
  },
  {
   "cell_type": "code",
   "execution_count": 6,
   "id": "combined-department",
   "metadata": {},
   "outputs": [
    {
     "data": {
      "application/json": {
       "cell": {
        "!": "OSMagics",
        "HTML": "Other",
        "SVG": "Other",
        "bash": "Other",
        "capture": "ExecutionMagics",
        "debug": "ExecutionMagics",
        "file": "Other",
        "html": "DisplayMagics",
        "javascript": "DisplayMagics",
        "js": "DisplayMagics",
        "latex": "DisplayMagics",
        "markdown": "DisplayMagics",
        "perl": "Other",
        "prun": "ExecutionMagics",
        "pypy": "Other",
        "python": "Other",
        "python2": "Other",
        "python3": "Other",
        "ruby": "Other",
        "script": "ScriptMagics",
        "sh": "Other",
        "svg": "DisplayMagics",
        "sx": "OSMagics",
        "system": "OSMagics",
        "time": "ExecutionMagics",
        "timeit": "ExecutionMagics",
        "writefile": "OSMagics"
       },
       "line": {
        "alias": "OSMagics",
        "alias_magic": "BasicMagics",
        "autoawait": "AsyncMagics",
        "autocall": "AutoMagics",
        "automagic": "AutoMagics",
        "autosave": "KernelMagics",
        "bookmark": "OSMagics",
        "cat": "Other",
        "cd": "OSMagics",
        "clear": "KernelMagics",
        "colors": "BasicMagics",
        "conda": "PackagingMagics",
        "config": "ConfigMagics",
        "connect_info": "KernelMagics",
        "cp": "Other",
        "debug": "ExecutionMagics",
        "dhist": "OSMagics",
        "dirs": "OSMagics",
        "doctest_mode": "BasicMagics",
        "ed": "Other",
        "edit": "KernelMagics",
        "env": "OSMagics",
        "gui": "BasicMagics",
        "hist": "Other",
        "history": "HistoryMagics",
        "killbgscripts": "ScriptMagics",
        "ldir": "Other",
        "less": "KernelMagics",
        "lf": "Other",
        "lk": "Other",
        "ll": "Other",
        "load": "CodeMagics",
        "load_ext": "ExtensionMagics",
        "loadpy": "CodeMagics",
        "logoff": "LoggingMagics",
        "logon": "LoggingMagics",
        "logstart": "LoggingMagics",
        "logstate": "LoggingMagics",
        "logstop": "LoggingMagics",
        "ls": "Other",
        "lsmagic": "BasicMagics",
        "lx": "Other",
        "macro": "ExecutionMagics",
        "magic": "BasicMagics",
        "man": "KernelMagics",
        "matplotlib": "PylabMagics",
        "mkdir": "Other",
        "more": "KernelMagics",
        "mv": "Other",
        "notebook": "BasicMagics",
        "page": "BasicMagics",
        "pastebin": "CodeMagics",
        "pdb": "ExecutionMagics",
        "pdef": "NamespaceMagics",
        "pdoc": "NamespaceMagics",
        "pfile": "NamespaceMagics",
        "pinfo": "NamespaceMagics",
        "pinfo2": "NamespaceMagics",
        "pip": "PackagingMagics",
        "popd": "OSMagics",
        "pprint": "BasicMagics",
        "precision": "BasicMagics",
        "prun": "ExecutionMagics",
        "psearch": "NamespaceMagics",
        "psource": "NamespaceMagics",
        "pushd": "OSMagics",
        "pwd": "OSMagics",
        "pycat": "OSMagics",
        "pylab": "PylabMagics",
        "qtconsole": "KernelMagics",
        "quickref": "BasicMagics",
        "recall": "HistoryMagics",
        "rehashx": "OSMagics",
        "reload_ext": "ExtensionMagics",
        "rep": "Other",
        "rerun": "HistoryMagics",
        "reset": "NamespaceMagics",
        "reset_selective": "NamespaceMagics",
        "rm": "Other",
        "rmdir": "Other",
        "run": "ExecutionMagics",
        "save": "CodeMagics",
        "sc": "OSMagics",
        "set_env": "OSMagics",
        "store": "StoreMagics",
        "sx": "OSMagics",
        "system": "OSMagics",
        "tb": "ExecutionMagics",
        "time": "ExecutionMagics",
        "timeit": "ExecutionMagics",
        "unalias": "OSMagics",
        "unload_ext": "ExtensionMagics",
        "who": "NamespaceMagics",
        "who_ls": "NamespaceMagics",
        "whos": "NamespaceMagics",
        "xdel": "NamespaceMagics",
        "xmode": "BasicMagics"
       }
      },
      "text/plain": [
       "Available line magics:\n",
       "%alias  %alias_magic  %autoawait  %autocall  %automagic  %autosave  %bookmark  %cat  %cd  %clear  %colors  %conda  %config  %connect_info  %cp  %debug  %dhist  %dirs  %doctest_mode  %ed  %edit  %env  %gui  %hist  %history  %killbgscripts  %ldir  %less  %lf  %lk  %ll  %load  %load_ext  %loadpy  %logoff  %logon  %logstart  %logstate  %logstop  %ls  %lsmagic  %lx  %macro  %magic  %man  %matplotlib  %mkdir  %more  %mv  %notebook  %page  %pastebin  %pdb  %pdef  %pdoc  %pfile  %pinfo  %pinfo2  %pip  %popd  %pprint  %precision  %prun  %psearch  %psource  %pushd  %pwd  %pycat  %pylab  %qtconsole  %quickref  %recall  %rehashx  %reload_ext  %rep  %rerun  %reset  %reset_selective  %rm  %rmdir  %run  %save  %sc  %set_env  %store  %sx  %system  %tb  %time  %timeit  %unalias  %unload_ext  %who  %who_ls  %whos  %xdel  %xmode\n",
       "\n",
       "Available cell magics:\n",
       "%%!  %%HTML  %%SVG  %%bash  %%capture  %%debug  %%file  %%html  %%javascript  %%js  %%latex  %%markdown  %%perl  %%prun  %%pypy  %%python  %%python2  %%python3  %%ruby  %%script  %%sh  %%svg  %%sx  %%system  %%time  %%timeit  %%writefile\n",
       "\n",
       "Automagic is ON, % prefix IS NOT needed for line magics."
      ]
     },
     "execution_count": 6,
     "metadata": {},
     "output_type": "execute_result"
    }
   ],
   "source": [
    "%lsmagic"
   ]
  },
  {
   "cell_type": "markdown",
   "id": "political-region",
   "metadata": {},
   "source": [
    "Documentación versión 3.x https://www2.mmm.ucar.edu/wrf/users/docs/user_guide_V3/contents.html\n",
    "Documentación versión 4.x https://www2.mmm.ucar.edu/wrf/users/docs/user_guide_v4/contents.html"
   ]
  }
 ],
 "metadata": {
  "kernelspec": {
   "display_name": "Python 3",
   "language": "python",
   "name": "python3"
  },
  "language_info": {
   "codemirror_mode": {
    "name": "ipython",
    "version": 3
   },
   "file_extension": ".py",
   "mimetype": "text/x-python",
   "name": "python",
   "nbconvert_exporter": "python",
   "pygments_lexer": "ipython3",
   "version": "3.8.8"
  }
 },
 "nbformat": 4,
 "nbformat_minor": 5
}
