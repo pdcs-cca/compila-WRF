{
 "cells": [
  {
   "cell_type": "markdown",
   "id": "intelligent-marijuana",
   "metadata": {},
   "source": [
    "## Requisitos de software para la compilación del modelo WRF\n",
    "\n",
    "* Fortran 90 or 95, and a C compiler\n",
    "* perl 5.04 or later\n",
    "* If an MPI or OpenMP compilation is desired (required for parallel runs), MPI or OpenMP libraries are required\n",
    "* WRF I/O API supports netCDF, pnetCDF, and PHD5, therefore one of these libraries needs to be available on the computer on which you compile and run WRF\n",
    "* If you plan to run a real–data case, and you plan to use Grib2 data, you must have Jasper, libPNG, and Zlib installed\n",
    "* The following Unix commands are mandatory:\n",
    "\n",
    "| | |  |\n",
    "--- | --- | ---| \n",
    "|    ar   |          head  |            sed |\n",
    "|    awk  |        hostname |     sleep|\n",
    "|    cat  |          ln     |             sort|\n",
    "|    cd   |          ls     |             tar|\n",
    "|    cp   |          make   |         touch|\n",
    "|    cut  |          mkdir  |          tr|\n",
    "|    expr |         mv      |          uname|\n",
    "|    file |            nm   |             wc|\n",
    "|    grep  |        printf  |           which|\n",
    "|    gzip  |         rm     |"
   ]
  },
  {
   "cell_type": "markdown",
   "id": "dense-manual",
   "metadata": {},
   "source": []
  }
 ],
 "metadata": {
  "kernelspec": {
   "display_name": "Python 3",
   "language": "python",
   "name": "python3"
  },
  "language_info": {
   "codemirror_mode": {
    "name": "ipython",
    "version": 3
   },
   "file_extension": ".py",
   "mimetype": "text/x-python",
   "name": "python",
   "nbconvert_exporter": "python",
   "pygments_lexer": "ipython3",
   "version": "3.8.8"
  }
 },
 "nbformat": 4,
 "nbformat_minor": 5
}
