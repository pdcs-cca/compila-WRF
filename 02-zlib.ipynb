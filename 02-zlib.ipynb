{
 "cells": [
  {
   "cell_type": "markdown",
   "id": "negative-administrator",
   "metadata": {},
   "source": [
    "# Zlib"
   ]
  },
  {
   "cell_type": "markdown",
   "id": "realistic-video",
   "metadata": {},
   "source": [
    "## Configuración del código fuente"
   ]
  },
  {
   "cell_type": "code",
   "execution_count": 10,
   "id": "alone-worst",
   "metadata": {},
   "outputs": [
    {
     "name": "stdout",
     "output_type": "stream",
     "text": [
      "/LUSTRE/tmp/soporte/2022\n",
      " \n",
      ":: initializing oneAPI environment ...\n",
      "   bash: BASH_VERSION = 5.1.4(1)-release\n",
      "   args: Using \"$@\" for setvars.sh arguments: --config=oneapi.conf\n",
      ":: compiler -- latest\n",
      ":: mpi -- latest\n",
      ":: oneAPI environment initialized ::\n",
      " \n",
      "Checking for shared library support...\n",
      "Building shared library libz.so.1.2.12 with icc.\n",
      "Checking for size_t... Yes.\n",
      "Checking for off64_t... Yes.\n",
      "Checking for fseeko... Yes.\n",
      "Checking for strerror... Yes.\n",
      "Checking for unistd.h... Yes.\n",
      "Checking for stdarg.h... Yes.\n",
      "Checking whether to use vs[n]printf() or s[n]printf()... using vs[n]printf().\n",
      "Checking for vsnprintf() in stdio.h... Yes.\n",
      "Checking for return value of vsnprintf()... Yes.\n"
     ]
    }
   ],
   "source": [
    "%%bash -l \n",
    "#Inicializar entorno para el uso de compiladores INTEL\n",
    "pwd\n",
    "source /opt/software/apps/intel/oneapi/setvars.sh --config=oneapi.conf\n",
    "\n",
    "#Definir variables para el uso de los compiladores de intel \n",
    "#para la configuración del código fuente\n",
    "export CC=icc FC=ifort F77=ifort F90=ifort CXX=icpc\n",
    "export CFLAGS=\" -O3 -fPIC\"\n",
    "\n",
    "#Crear el directorio build  si  NO existe\n",
    "test ! -e build && mkdir -v build\n",
    "cd build\n",
    "\n",
    "#Desempaquetar código fuente de zlib\n",
    "tar xzf ../src/zlib-1.2.12.tar.gz\n",
    "cd zlib-1.2.12\n",
    "\n",
    "#Configurar el código fuentes usando los compiladores de intel\n",
    "#previamente se definieron las variables de entorno \n",
    "#CC, FC, F77, F90, CFLAGS \n",
    "\n",
    "#Se indica mediante la opción --prefix  el directorio de instalación \n",
    "./configure --prefix=$HOME/tmp/2022/wrf"
   ]
  },
  {
   "cell_type": "markdown",
   "id": "brown-immigration",
   "metadata": {},
   "source": [
    "## Construcción o compilación de la bibliotea\n",
    "\n",
    "Se construye la biblioteca zlib con el comando __make__ y posteriormente se realizan pruebas de uso con el comando __make check__, por último se instala la biblioteca con el comando __make install__ en el directorio indicado con la opción  __--prefix__ durante el proceso de configuración."
   ]
  },
  {
   "cell_type": "code",
   "execution_count": 12,
   "id": "excellent-claim",
   "metadata": {},
   "outputs": [
    {
     "name": "stdout",
     "output_type": "stream",
     "text": [
      "/LUSTRE/tmp/soporte/2022\n",
      " \n",
      ":: initializing oneAPI environment ...\n",
      "   bash: BASH_VERSION = 5.1.4(1)-release\n",
      "   args: Using \"$@\" for setvars.sh arguments: --config=oneapi.conf\n",
      ":: compiler -- latest\n",
      ":: mpi -- latest\n",
      ":: oneAPI environment initialized ::\n",
      " \n",
      "make: No se hace nada para 'all'.\n",
      "hello world\n",
      "zlib version 1.2.12 = 0x12c0, compile flags = 0xa9\n",
      "uncompress(): hello, hello!\n",
      "gzread(): hello, hello!\n",
      "gzgets() after gzseek:  hello!\n",
      "inflate(): hello, hello!\n",
      "large_inflate(): OK\n",
      "after inflateSync(): hello, hello!\n",
      "inflate with dictionary: hello, hello!\n",
      "\t\t*** zlib test OK ***\n",
      "hello world\n",
      "zlib version 1.2.12 = 0x12c0, compile flags = 0xa9\n",
      "uncompress(): hello, hello!\n",
      "gzread(): hello, hello!\n",
      "gzgets() after gzseek:  hello!\n",
      "inflate(): hello, hello!\n",
      "large_inflate(): OK\n",
      "after inflateSync(): hello, hello!\n",
      "inflate with dictionary: hello, hello!\n",
      "\t\t*** zlib shared test OK ***\n",
      "hello world\n",
      "zlib version 1.2.12 = 0x12c0, compile flags = 0xa9\n",
      "uncompress(): hello, hello!\n",
      "gzread(): hello, hello!\n",
      "gzgets() after gzseek:  hello!\n",
      "inflate(): hello, hello!\n",
      "large_inflate(): OK\n",
      "after inflateSync(): hello, hello!\n",
      "inflate with dictionary: hello, hello!\n",
      "\t\t*** zlib 64-bit test OK ***\n",
      "rm -f /home/soporte/tmp/2022/wrf//lib/libz.a\n",
      "cp libz.a /home/soporte/tmp/2022/wrf//lib\n",
      "chmod 644 /home/soporte/tmp/2022/wrf//lib/libz.a\n",
      "cp libz.so.1.2.12 /home/soporte/tmp/2022/wrf//lib\n",
      "chmod 755 /home/soporte/tmp/2022/wrf//lib/libz.so.1.2.12\n",
      "rm -f /home/soporte/tmp/2022/wrf//share/man/man3/zlib.3\n",
      "cp zlib.3 /home/soporte/tmp/2022/wrf//share/man/man3\n",
      "chmod 644 /home/soporte/tmp/2022/wrf//share/man/man3/zlib.3\n",
      "rm -f /home/soporte/tmp/2022/wrf//lib/pkgconfig/zlib.pc\n",
      "cp zlib.pc /home/soporte/tmp/2022/wrf//lib/pkgconfig\n",
      "chmod 644 /home/soporte/tmp/2022/wrf//lib/pkgconfig/zlib.pc\n",
      "rm -f /home/soporte/tmp/2022/wrf//include/zlib.h /home/soporte/tmp/2022/wrf//include/zconf.h\n",
      "cp zlib.h zconf.h /home/soporte/tmp/2022/wrf//include\n",
      "chmod 644 /home/soporte/tmp/2022/wrf//include/zlib.h /home/soporte/tmp/2022/wrf//include/zconf.h\n"
     ]
    }
   ],
   "source": [
    "%%bash -l \n",
    "pwd\n",
    "source /opt/software/apps/intel/oneapi/setvars.sh --config=oneapi.conf\n",
    "\n",
    "#Ingresar al directorio del código fuente previamente desempaquetado \n",
    "#y configurado.  \n",
    "#Utilizar la herramienta make para la construcción de la biblioteca zlib\n",
    "cd build/zlib-1.2.12\n",
    "make && make check && make install"
   ]
  },
  {
   "cell_type": "markdown",
   "id": "capable-deployment",
   "metadata": {},
   "source": [
    "## Contenido del directorio  $HOME/tmp/2022/wrf "
   ]
  },
  {
   "cell_type": "code",
   "execution_count": 14,
   "id": "threatened-preserve",
   "metadata": {},
   "outputs": [
    {
     "name": "stdout",
     "output_type": "stream",
     "text": [
      "/home/soporte/tmp/2022/wrf\n",
      "├── include\n",
      "│   ├── zconf.h\n",
      "│   └── zlib.h\n",
      "├── lib\n",
      "│   ├── libz.a\n",
      "│   ├── libz.so -> libz.so.1.2.12\n",
      "│   ├── libz.so.1 -> libz.so.1.2.12\n",
      "│   ├── libz.so.1.2.12\n",
      "│   └── pkgconfig\n",
      "│       └── zlib.pc\n",
      "└── share\n",
      "    └── man\n",
      "        └── man3\n",
      "            └── zlib.3\n",
      "\n",
      "6 directories, 8 files\n"
     ]
    }
   ],
   "source": [
    "%%bash \n",
    "\n",
    "tree $HOME/tmp/2022/wrf "
   ]
  }
 ],
 "metadata": {
  "kernelspec": {
   "display_name": "Python 3",
   "language": "python",
   "name": "python3"
  },
  "language_info": {
   "codemirror_mode": {
    "name": "ipython",
    "version": 3
   },
   "file_extension": ".py",
   "mimetype": "text/x-python",
   "name": "python",
   "nbconvert_exporter": "python",
   "pygments_lexer": "ipython3",
   "version": "3.8.8"
  }
 },
 "nbformat": 4,
 "nbformat_minor": 5
}
