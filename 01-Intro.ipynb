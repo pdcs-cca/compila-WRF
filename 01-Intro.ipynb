{
 "cells": [
  {
   "cell_type": "markdown",
   "id": "active-possible",
   "metadata": {},
   "source": [
    "# Compilación del modelo WRF\n",
    "\n",
    "## Compilación\n",
    "\n",
    "Es un proceso de varias etapas y que no se realiza por un solo programa. Las etapas son:\n",
    "* Pre procesamiento\n",
    "* Compilación\n",
    "* Ensamblado\n",
    "* Ligado\n",
    "\n",
    "<p align=\"center\">\n",
    "<img width=\"600\" src=\"https://2.bp.blogspot.com/-8Q6IOiKYQ1s/UFs9fIee8fI/AAAAAAAAAzw/LE5aTDaHRYQ/s1600/compilacion.png\">\n",
    "</p>\n",
    "\n",
    "Los archivos a compilar para el modelo WRF son NNN y para compilar el programa WPS \n",
    "Las bibliotecas externas que utiliza WRF son: \n",
    "\n",
    "* netCDF-Fortran\n",
    "* Jasper\n",
    "* Zlib\n",
    "* libPNG"
   ]
  },
  {
   "cell_type": "markdown",
   "id": "legal-wyoming",
   "metadata": {
    "tags": []
   },
   "source": [
    "\n",
    "## Requisitos de software para la compilación del modelo WRF\n",
    "\n",
    "\n",
    "* The following Unix commands are mandatory:\n",
    "\n",
    "| | |  |\n",
    "--- | --- | ---| \n",
    "|    ar   |          head  |            sed |\n",
    "|    awk  |        hostname |     sleep|\n",
    "|    cat  |          ln     |             sort|\n",
    "|    cd   |          ls     |             tar|\n",
    "|    cp   |          make   |         touch|\n",
    "|    cut  |          mkdir  |          tr|\n",
    "|    expr |         mv      |          uname|\n",
    "|    file |            nm   |             wc|\n",
    "|    grep  |        printf  |           which|\n",
    "|    gzip  |         rm     |\n",
    "* perl 5.04 or later\n",
    "* Fortran 90 or 95, and a C compiler\n",
    "* If an MPI or OpenMP compilation is desired (required for parallel runs), MPI or OpenMP libraries are required\n",
    "* __WRF I/O API supports netCDF, pnetCDF, and PHD5, therefore one of these libraries needs to be available on the computer on which you compile and run WRF__\n",
    "* __If you plan to run a real–data case, and you plan to use Grib2 data, you must have Jasper, libPNG, and Zlib installed__\n"
   ]
  },
  {
   "cell_type": "markdown",
   "id": "minus-burden",
   "metadata": {},
   "source": [
    "## Comandos UNIX y Perl\n",
    "Se encuentran en la mayoría de las distribuciones  GNU/Linux "
   ]
  },
  {
   "cell_type": "code",
   "execution_count": null,
   "id": "incredible-shaft",
   "metadata": {},
   "outputs": [],
   "source": [
    "%%bash -l\n",
    "perl --version"
   ]
  },
  {
   "cell_type": "markdown",
   "id": "accepted-webster",
   "metadata": {},
   "source": [
    "## Compiladores de Intel Fortran95 y C versión 2021.5.0 "
   ]
  },
  {
   "cell_type": "code",
   "execution_count": null,
   "id": "banned-mailman",
   "metadata": {},
   "outputs": [],
   "source": [
    "%%bash -l \n",
    "pwd\n",
    "SETVARS_ARGS=\"--config=/opt/software/apps/intel/oneapi/config.txt\"\n",
    "source /opt/software/apps/intel/oneapi/setvars.sh\n",
    "icc -v\n",
    "icpc -v\n",
    "ifort -v"
   ]
  },
  {
   "cell_type": "markdown",
   "id": "controversial-crowd",
   "metadata": {},
   "source": [
    "## netCDF Fortran, netCDF C y HDF5"
   ]
  },
  {
   "cell_type": "markdown",
   "id": "hourly-heath",
   "metadata": {},
   "source": [
    "WRF utiliza el formato de archivo netCDF network Common Data Form (https://www.unidata.ucar.edu/software/netcdf/), en específico la biblioteca en fortran  (https://docs.unidata.ucar.edu/netcdf-fortran/current/) para leer y escribir archivos netCDF.\n",
    "\n",
    "\n",
    "* Latest Release\tnetCDF-Fortran v4.5.4\n",
    "* Release Date\tJanuary 7, 2022\n",
    "* https://github.com/Unidata/netcdf-fortran\n",
    "\n"
   ]
  },
  {
   "cell_type": "markdown",
   "id": "equal-distribution",
   "metadata": {},
   "source": [
    "La biblioteca netCDF-Fortran depende de la biblioteca netCDF-C y la biblioteca  curl\n",
    "\n",
    "* Latest Release\tnetCDF-C v4.8.1\n",
    "* Release Date\tAugust 23, 2021\n",
    "* https://github.com/Unidata/netcdf-c\n",
    "* https://curl.se/\n",
    "\n",
    "Para hacer uso de la capcidad de compresión del formato netCDF-4, se requiere instalar primero la biblioteca HDF5 con soporte para el uso de szip (aec) https://gitlab.dkrz.de/k202009/libaec\n",
    "\n",
    "* Version\tHDF5 1.10.8\n",
    "* Release Date\t2021-10-22\n",
    "* https://github.com/HDFGroup/hdf5\n",
    "\n"
   ]
  },
  {
   "cell_type": "markdown",
   "id": "prerequisite-contrary",
   "metadata": {},
   "source": [
    "## Soporte para Grib2\n",
    "The GRIB file format is designed for storing and distributing weather data. GRIB files are widely used in meteorological applications. GRIB stands for \"General Regularly distributed Information in Binary form\" and is a WMO (World Meteorological Organisation) standard format for archiving and exchanging gridded data.\n",
    "\n",
    "Se requiere de las bibliotecas:\n",
    "\n",
    "* Jasperlib version 2.0.33 https://github.com/jasper-software/jasper\n",
    "* LibPNG version 1.6.37 http://www.libpng.org/pub/png/libpng.html\n",
    "* Zlib  version 1.2.12 https://www.zlib.net/\n"
   ]
  },
  {
   "cell_type": "markdown",
   "id": "regional-intranet",
   "metadata": {},
   "source": [
    "## Resumen construcción del modelo WRF \n",
    "\n",
    "### Orden de construcción de las bibliotecas antes de la construcción de WRF\n",
    "\n",
    "1. zlib\n",
    "2. libaec\n",
    "3. curl\n",
    "4. LibPNG utilizando zlib\n",
    "5. Jasperlib utilizando zlib\n",
    "5. HDF5  utilizando zlib y libaec \n",
    "6. netCDF-C utilizando HDF5 y curl\n",
    "7. netCDF-Fortran utilizando netCDF-C"
   ]
  },
  {
   "cell_type": "markdown",
   "id": "mounted-sequence",
   "metadata": {},
   "source": [
    "Descargar WRF https://github.com/wrf-model/WRF  Version 4.3.3 y configurar el código fuente para el uso de netCDF-Fortran, libPNG y jarperlib."
   ]
  },
  {
   "cell_type": "markdown",
   "id": "retained-worship",
   "metadata": {},
   "source": [
    "Documentación versión 3.x https://www2.mmm.ucar.edu/wrf/users/docs/user_guide_V3/contents.html\n",
    "Documentación versión 4.x https://www2.mmm.ucar.edu/wrf/users/docs/user_guide_v4/contents.html"
   ]
  }
 ],
 "metadata": {
  "kernelspec": {
   "display_name": "Python 3",
   "language": "python",
   "name": "python3"
  },
  "language_info": {
   "codemirror_mode": {
    "name": "ipython",
    "version": 3
   },
   "file_extension": ".py",
   "mimetype": "text/x-python",
   "name": "python",
   "nbconvert_exporter": "python",
   "pygments_lexer": "ipython3",
   "version": "3.8.8"
  }
 },
 "nbformat": 4,
 "nbformat_minor": 5
}
