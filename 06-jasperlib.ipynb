{
 "cells": [
  {
   "cell_type": "markdown",
   "id": "endangered-investment",
   "metadata": {},
   "source": [
    "# jasperlib"
   ]
  },
  {
   "cell_type": "markdown",
   "id": "waiting-component",
   "metadata": {},
   "source": [
    "## Configuración del código fuente"
   ]
  },
  {
   "cell_type": "code",
   "execution_count": 1,
   "id": "modified-louisiana",
   "metadata": {
    "tags": []
   },
   "outputs": [
    {
     "name": "stdout",
     "output_type": "stream",
     "text": [
      "/LUSTRE/tmp/soporte/compila-WRF\n",
      " \n",
      ":: initializing oneAPI environment ...\n",
      "   bash: BASH_VERSION = 5.1.4(1)-release\n",
      "   args: Using \"SETVARS_ARGS\" for setvars.sh arguments: --config=/opt/software/apps/intel/oneapi/config.txt\n",
      ":: compiler -- latest\n",
      ":: mpi -- latest\n",
      ":: oneAPI environment initialized ::\n",
      " \n",
      "mkdir: se ha creado el directorio 'build'\n"
     ]
    },
    {
     "name": "stderr",
     "output_type": "stream",
     "text": [
      "CMake Error: The source directory \"/LUSTRE/tmp/soporte/compila-WRF/build/jasper-version-1.900.31\" does not appear to contain CMakeLists.txt.\n",
      "Specify --help for usage, or press the help button on the CMake GUI.\n"
     ]
    },
    {
     "ename": "CalledProcessError",
     "evalue": "Command 'b'#Inicializar entorno para el uso de compiladores INTEL\\npwd\\nSETVARS_ARGS=\"--config=/opt/software/apps/intel/oneapi/config.txt\"\\nsource /opt/software/apps/intel/oneapi/setvars.sh\\n\\n#Definir variables para el uso de los compiladores de intel \\n#para la configuraci\\xc3\\xb3n del c\\xc3\\xb3digo fuente\\nexport CC=icc FC=ifort F77=ifort F90=ifort CXX=icpc\\nexport CFLAGS=\" -O3 -fPIC\"\\nexport CPPFLAGS=\"-I$HOME/tmp/2022/wrf/include\"\\nexport LDFLAGS=\"-L$HOME/tmp/2022/wrf/lib -Wl,-rpath=$HOME/tmp/2022/wrf/lib\"\\n\\n#Crear el directorio build  si  NO existe\\ntest ! -e build && mkdir -v build\\ncd build\\n\\n#Desempaquetar c\\xc3\\xb3digo fuente \\ntar xzf ../src/jasper-version-1.900.31.tar.gz\\ncd jasper-version-1.900.31\\n\\n#Configurar el c\\xc3\\xb3digo fuentes usando los compiladores de intel\\n#previamente se definieron las variables de entorno \\n#CC, FC, F77, F90, CFLAGS \\n\\n#Se indica mediante la opci\\xc3\\xb3n --prefix  el directorio de instalaci\\xc3\\xb3n \\ntest ! -e build && mkdir build\\ncd build\\ncmake -DCMAKE_INSTALL_PREFIX=$HOME/tmp/2022/wrf -DJPEG_INCLUDE_DIR=$HOME/tmp/2022/wrf/include -DJPEG_LIBRARY=$HOME/tmp/2022/wrf/lib .. && make && make install\\n'' returned non-zero exit status 1.",
     "output_type": "error",
     "traceback": [
      "\u001b[0;31m---------------------------------------------------------------------------\u001b[0m",
      "\u001b[0;31mCalledProcessError\u001b[0m                        Traceback (most recent call last)",
      "\u001b[0;32m<ipython-input-1-06561558bd48>\u001b[0m in \u001b[0;36m<module>\u001b[0;34m\u001b[0m\n\u001b[0;32m----> 1\u001b[0;31m \u001b[0mget_ipython\u001b[0m\u001b[0;34m(\u001b[0m\u001b[0;34m)\u001b[0m\u001b[0;34m.\u001b[0m\u001b[0mrun_cell_magic\u001b[0m\u001b[0;34m(\u001b[0m\u001b[0;34m'bash'\u001b[0m\u001b[0;34m,\u001b[0m \u001b[0;34m'-l'\u001b[0m\u001b[0;34m,\u001b[0m \u001b[0;34m'#Inicializar entorno para el uso de compiladores INTEL\\npwd\\nSETVARS_ARGS=\"--config=/opt/software/apps/intel/oneapi/config.txt\"\\nsource /opt/software/apps/intel/oneapi/setvars.sh\\n\\n#Definir variables para el uso de los compiladores de intel \\n#para la configuración del código fuente\\nexport CC=icc FC=ifort F77=ifort F90=ifort CXX=icpc\\nexport CFLAGS=\" -O3 -fPIC\"\\nexport CPPFLAGS=\"-I$HOME/tmp/2022/wrf/include\"\\nexport LDFLAGS=\"-L$HOME/tmp/2022/wrf/lib -Wl,-rpath=$HOME/tmp/2022/wrf/lib\"\\n\\n#Crear el directorio build  si  NO existe\\ntest ! -e build && mkdir -v build\\ncd build\\n\\n#Desempaquetar código fuente \\ntar xzf ../src/jasper-version-1.900.31.tar.gz\\ncd jasper-version-1.900.31\\n\\n#Configurar el código fuentes usando los compiladores de intel\\n#previamente se definieron las variables de entorno \\n#CC, FC, F77, F90, CFLAGS \\n\\n#Se indica mediante la opción --prefix  el directorio de instalación \\ntest ! -e build && mkdir build\\ncd build\\ncmake -DCMAKE_INSTALL_PREFIX=$HOME/tmp/2022/wrf -DJPEG_INCLUDE_DIR=$HOME/tmp/2022/wrf/include -DJPEG_LIBRARY=$HOME/tmp/2022/wrf/lib .. && make && make install\\n'\u001b[0m\u001b[0;34m)\u001b[0m\u001b[0;34m\u001b[0m\u001b[0;34m\u001b[0m\u001b[0m\n\u001b[0m",
      "\u001b[0;32m/opt/software/apps/python/miniconda3/2021.01/envs/wrf-python-icaycc/lib/python3.8/site-packages/IPython/core/interactiveshell.py\u001b[0m in \u001b[0;36mrun_cell_magic\u001b[0;34m(self, magic_name, line, cell)\u001b[0m\n\u001b[1;32m   2389\u001b[0m             \u001b[0;32mwith\u001b[0m \u001b[0mself\u001b[0m\u001b[0;34m.\u001b[0m\u001b[0mbuiltin_trap\u001b[0m\u001b[0;34m:\u001b[0m\u001b[0;34m\u001b[0m\u001b[0;34m\u001b[0m\u001b[0m\n\u001b[1;32m   2390\u001b[0m                 \u001b[0margs\u001b[0m \u001b[0;34m=\u001b[0m \u001b[0;34m(\u001b[0m\u001b[0mmagic_arg_s\u001b[0m\u001b[0;34m,\u001b[0m \u001b[0mcell\u001b[0m\u001b[0;34m)\u001b[0m\u001b[0;34m\u001b[0m\u001b[0;34m\u001b[0m\u001b[0m\n\u001b[0;32m-> 2391\u001b[0;31m                 \u001b[0mresult\u001b[0m \u001b[0;34m=\u001b[0m \u001b[0mfn\u001b[0m\u001b[0;34m(\u001b[0m\u001b[0;34m*\u001b[0m\u001b[0margs\u001b[0m\u001b[0;34m,\u001b[0m \u001b[0;34m**\u001b[0m\u001b[0mkwargs\u001b[0m\u001b[0;34m)\u001b[0m\u001b[0;34m\u001b[0m\u001b[0;34m\u001b[0m\u001b[0m\n\u001b[0m\u001b[1;32m   2392\u001b[0m             \u001b[0;32mreturn\u001b[0m \u001b[0mresult\u001b[0m\u001b[0;34m\u001b[0m\u001b[0;34m\u001b[0m\u001b[0m\n\u001b[1;32m   2393\u001b[0m \u001b[0;34m\u001b[0m\u001b[0m\n",
      "\u001b[0;32m/opt/software/apps/python/miniconda3/2021.01/envs/wrf-python-icaycc/lib/python3.8/site-packages/IPython/core/magics/script.py\u001b[0m in \u001b[0;36mnamed_script_magic\u001b[0;34m(line, cell)\u001b[0m\n\u001b[1;32m    140\u001b[0m             \u001b[0;32melse\u001b[0m\u001b[0;34m:\u001b[0m\u001b[0;34m\u001b[0m\u001b[0;34m\u001b[0m\u001b[0m\n\u001b[1;32m    141\u001b[0m                 \u001b[0mline\u001b[0m \u001b[0;34m=\u001b[0m \u001b[0mscript\u001b[0m\u001b[0;34m\u001b[0m\u001b[0;34m\u001b[0m\u001b[0m\n\u001b[0;32m--> 142\u001b[0;31m             \u001b[0;32mreturn\u001b[0m \u001b[0mself\u001b[0m\u001b[0;34m.\u001b[0m\u001b[0mshebang\u001b[0m\u001b[0;34m(\u001b[0m\u001b[0mline\u001b[0m\u001b[0;34m,\u001b[0m \u001b[0mcell\u001b[0m\u001b[0;34m)\u001b[0m\u001b[0;34m\u001b[0m\u001b[0;34m\u001b[0m\u001b[0m\n\u001b[0m\u001b[1;32m    143\u001b[0m \u001b[0;34m\u001b[0m\u001b[0m\n\u001b[1;32m    144\u001b[0m         \u001b[0;31m# write a basic docstring:\u001b[0m\u001b[0;34m\u001b[0m\u001b[0;34m\u001b[0m\u001b[0;34m\u001b[0m\u001b[0m\n",
      "\u001b[0;32m<decorator-gen-103>\u001b[0m in \u001b[0;36mshebang\u001b[0;34m(self, line, cell)\u001b[0m\n",
      "\u001b[0;32m/opt/software/apps/python/miniconda3/2021.01/envs/wrf-python-icaycc/lib/python3.8/site-packages/IPython/core/magic.py\u001b[0m in \u001b[0;36m<lambda>\u001b[0;34m(f, *a, **k)\u001b[0m\n\u001b[1;32m    185\u001b[0m     \u001b[0;31m# but it's overkill for just that one bit of state.\u001b[0m\u001b[0;34m\u001b[0m\u001b[0;34m\u001b[0m\u001b[0;34m\u001b[0m\u001b[0m\n\u001b[1;32m    186\u001b[0m     \u001b[0;32mdef\u001b[0m \u001b[0mmagic_deco\u001b[0m\u001b[0;34m(\u001b[0m\u001b[0marg\u001b[0m\u001b[0;34m)\u001b[0m\u001b[0;34m:\u001b[0m\u001b[0;34m\u001b[0m\u001b[0;34m\u001b[0m\u001b[0m\n\u001b[0;32m--> 187\u001b[0;31m         \u001b[0mcall\u001b[0m \u001b[0;34m=\u001b[0m \u001b[0;32mlambda\u001b[0m \u001b[0mf\u001b[0m\u001b[0;34m,\u001b[0m \u001b[0;34m*\u001b[0m\u001b[0ma\u001b[0m\u001b[0;34m,\u001b[0m \u001b[0;34m**\u001b[0m\u001b[0mk\u001b[0m\u001b[0;34m:\u001b[0m \u001b[0mf\u001b[0m\u001b[0;34m(\u001b[0m\u001b[0;34m*\u001b[0m\u001b[0ma\u001b[0m\u001b[0;34m,\u001b[0m \u001b[0;34m**\u001b[0m\u001b[0mk\u001b[0m\u001b[0;34m)\u001b[0m\u001b[0;34m\u001b[0m\u001b[0;34m\u001b[0m\u001b[0m\n\u001b[0m\u001b[1;32m    188\u001b[0m \u001b[0;34m\u001b[0m\u001b[0m\n\u001b[1;32m    189\u001b[0m         \u001b[0;32mif\u001b[0m \u001b[0mcallable\u001b[0m\u001b[0;34m(\u001b[0m\u001b[0marg\u001b[0m\u001b[0;34m)\u001b[0m\u001b[0;34m:\u001b[0m\u001b[0;34m\u001b[0m\u001b[0;34m\u001b[0m\u001b[0m\n",
      "\u001b[0;32m/opt/software/apps/python/miniconda3/2021.01/envs/wrf-python-icaycc/lib/python3.8/site-packages/IPython/core/magics/script.py\u001b[0m in \u001b[0;36mshebang\u001b[0;34m(self, line, cell)\u001b[0m\n\u001b[1;32m    243\u001b[0m             \u001b[0msys\u001b[0m\u001b[0;34m.\u001b[0m\u001b[0mstderr\u001b[0m\u001b[0;34m.\u001b[0m\u001b[0mflush\u001b[0m\u001b[0;34m(\u001b[0m\u001b[0;34m)\u001b[0m\u001b[0;34m\u001b[0m\u001b[0;34m\u001b[0m\u001b[0m\n\u001b[1;32m    244\u001b[0m         \u001b[0;32mif\u001b[0m \u001b[0margs\u001b[0m\u001b[0;34m.\u001b[0m\u001b[0mraise_error\u001b[0m \u001b[0;32mand\u001b[0m \u001b[0mp\u001b[0m\u001b[0;34m.\u001b[0m\u001b[0mreturncode\u001b[0m\u001b[0;34m!=\u001b[0m\u001b[0;36m0\u001b[0m\u001b[0;34m:\u001b[0m\u001b[0;34m\u001b[0m\u001b[0;34m\u001b[0m\u001b[0m\n\u001b[0;32m--> 245\u001b[0;31m             \u001b[0;32mraise\u001b[0m \u001b[0mCalledProcessError\u001b[0m\u001b[0;34m(\u001b[0m\u001b[0mp\u001b[0m\u001b[0;34m.\u001b[0m\u001b[0mreturncode\u001b[0m\u001b[0;34m,\u001b[0m \u001b[0mcell\u001b[0m\u001b[0;34m,\u001b[0m \u001b[0moutput\u001b[0m\u001b[0;34m=\u001b[0m\u001b[0mout\u001b[0m\u001b[0;34m,\u001b[0m \u001b[0mstderr\u001b[0m\u001b[0;34m=\u001b[0m\u001b[0merr\u001b[0m\u001b[0;34m)\u001b[0m\u001b[0;34m\u001b[0m\u001b[0;34m\u001b[0m\u001b[0m\n\u001b[0m\u001b[1;32m    246\u001b[0m \u001b[0;34m\u001b[0m\u001b[0m\n\u001b[1;32m    247\u001b[0m     \u001b[0;32mdef\u001b[0m \u001b[0m_run_script\u001b[0m\u001b[0;34m(\u001b[0m\u001b[0mself\u001b[0m\u001b[0;34m,\u001b[0m \u001b[0mp\u001b[0m\u001b[0;34m,\u001b[0m \u001b[0mcell\u001b[0m\u001b[0;34m,\u001b[0m \u001b[0mto_close\u001b[0m\u001b[0;34m)\u001b[0m\u001b[0;34m:\u001b[0m\u001b[0;34m\u001b[0m\u001b[0;34m\u001b[0m\u001b[0m\n",
      "\u001b[0;31mCalledProcessError\u001b[0m: Command 'b'#Inicializar entorno para el uso de compiladores INTEL\\npwd\\nSETVARS_ARGS=\"--config=/opt/software/apps/intel/oneapi/config.txt\"\\nsource /opt/software/apps/intel/oneapi/setvars.sh\\n\\n#Definir variables para el uso de los compiladores de intel \\n#para la configuraci\\xc3\\xb3n del c\\xc3\\xb3digo fuente\\nexport CC=icc FC=ifort F77=ifort F90=ifort CXX=icpc\\nexport CFLAGS=\" -O3 -fPIC\"\\nexport CPPFLAGS=\"-I$HOME/tmp/2022/wrf/include\"\\nexport LDFLAGS=\"-L$HOME/tmp/2022/wrf/lib -Wl,-rpath=$HOME/tmp/2022/wrf/lib\"\\n\\n#Crear el directorio build  si  NO existe\\ntest ! -e build && mkdir -v build\\ncd build\\n\\n#Desempaquetar c\\xc3\\xb3digo fuente \\ntar xzf ../src/jasper-version-1.900.31.tar.gz\\ncd jasper-version-1.900.31\\n\\n#Configurar el c\\xc3\\xb3digo fuentes usando los compiladores de intel\\n#previamente se definieron las variables de entorno \\n#CC, FC, F77, F90, CFLAGS \\n\\n#Se indica mediante la opci\\xc3\\xb3n --prefix  el directorio de instalaci\\xc3\\xb3n \\ntest ! -e build && mkdir build\\ncd build\\ncmake -DCMAKE_INSTALL_PREFIX=$HOME/tmp/2022/wrf -DJPEG_INCLUDE_DIR=$HOME/tmp/2022/wrf/include -DJPEG_LIBRARY=$HOME/tmp/2022/wrf/lib .. && make && make install\\n'' returned non-zero exit status 1."
     ]
    }
   ],
   "source": [
    "%%bash -l \n",
    "#Inicializar entorno para el uso de compiladores INTEL\n",
    "pwd\n",
    "SETVARS_ARGS=\"--config=/opt/software/apps/intel/oneapi/config.txt\"\n",
    "source /opt/software/apps/intel/oneapi/setvars.sh\n",
    "\n",
    "#Definir variables para el uso de los compiladores de intel \n",
    "#para la configuración del código fuente\n",
    "export CC=icc FC=ifort F77=ifort F90=ifort CXX=icpc\n",
    "export CFLAGS=\" -O3 -fPIC\"\n",
    "export CPPFLAGS=\"-I$HOME/tmp/2022/wrf/include\"\n",
    "export LDFLAGS=\"-L$HOME/tmp/2022/wrf/lib -Wl,-rpath=$HOME/tmp/2022/wrf/lib\"\n",
    "\n",
    "#Crear el directorio build  si  NO existe\n",
    "test ! -e build && mkdir -v build\n",
    "cd build\n",
    "\n",
    "#Desempaquetar código fuente \n",
    "tar xzf ../src/jasper-version-1.900.31.tar.gz\n",
    "cd jasper-version-1.900.31\n",
    "\n",
    "#Configurar el código fuentes usando los compiladores de intel\n",
    "#previamente se definieron las variables de entorno \n",
    "#CC, FC, F77, F90, CFLAGS \n",
    "\n",
    "#Se indica mediante la opción --prefix  el directorio de instalación \n",
    "test ! -e build && mkdir build\n",
    "cd build\n",
    "cmake -DCMAKE_INSTALL_PREFIX=$HOME/tmp/2022/wrf -DJPEG_INCLUDE_DIR=$HOME/tmp/2022/wrf/include -DJPEG_LIBRARY=$HOME/tmp/2022/wrf/lib .. && make && make install\n"
   ]
  },
  {
   "cell_type": "markdown",
   "id": "forbidden-democrat",
   "metadata": {},
   "source": [
    "## Construcción o compilación de la biblioteca\n",
    "\n",
    "Se construye la biblioteca  con el comando __make__ y posteriormente se realizan pruebas de uso con el comando __make check__, por último se instala la biblioteca con el comando __make install__ en el directorio indicado con la opción  __--prefix__ durante el proceso de configuración."
   ]
  },
  {
   "cell_type": "code",
   "execution_count": null,
   "id": "provincial-atmosphere",
   "metadata": {
    "tags": []
   },
   "outputs": [],
   "source": [
    "%%bash -l \n",
    "pwd\n",
    "SETVARS_ARGS=\"--config=/opt/software/apps/intel/oneapi/config.txt\"\n",
    "source /opt/software/apps/intel/oneapi/setvars.sh \n",
    "\n",
    "#Ingresar al directorio del código fuente previamente desempaquetado \n",
    "#y configurado.  \n",
    "#Utilizar la herramienta make para la construcción de la biblioteca \n",
    "cd build/libpng-1.6.37\n",
    "make "
   ]
  },
  {
   "cell_type": "code",
   "execution_count": null,
   "id": "frequent-bunny",
   "metadata": {},
   "outputs": [],
   "source": [
    "%%bash -l \n",
    "pwd\n",
    "SETVARS_ARGS=\"--config=/opt/software/apps/intel/oneapi/config.txt\"\n",
    "source /opt/software/apps/intel/oneapi/setvars.sh \n",
    "\n",
    "cd build/libpng-1.6.37\n",
    "make install"
   ]
  },
  {
   "cell_type": "markdown",
   "id": "speaking-effect",
   "metadata": {},
   "source": [
    "## Contenido del directorio  $HOME/tmp/2022/wrf "
   ]
  },
  {
   "cell_type": "code",
   "execution_count": null,
   "id": "hawaiian-attendance",
   "metadata": {
    "tags": []
   },
   "outputs": [],
   "source": [
    "%%bash \n",
    "\n",
    "tree -d $HOME/tmp/2022/wrf "
   ]
  }
 ],
 "metadata": {
  "kernelspec": {
   "display_name": "Python 3",
   "language": "python",
   "name": "python3"
  },
  "language_info": {
   "codemirror_mode": {
    "name": "ipython",
    "version": 3
   },
   "file_extension": ".py",
   "mimetype": "text/x-python",
   "name": "python",
   "nbconvert_exporter": "python",
   "pygments_lexer": "ipython3",
   "version": "3.8.8"
  }
 },
 "nbformat": 4,
 "nbformat_minor": 5
}
