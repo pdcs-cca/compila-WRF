{
 "cells": [
  {
   "cell_type": "markdown",
   "id": "multiple-investing",
   "metadata": {},
   "source": [
    "## Ejecución del modelo WRF"
   ]
  },
  {
   "cell_type": "markdown",
   "id": "recreational-provincial",
   "metadata": {},
   "source": [
    "La compilación de __WRF__ y __WPS__ realizadas en estos notebooks, contiene todas la bibliotecas en el directorio: \n",
    "\n",
    "~~~bash\n",
    "$HOME/tmp/2022/wrf/\n",
    "~~~\n",
    "\n",
    "Es necesario  indicar en la varible de entorno __LD_LIBRARY_PATH__ la ubicación de éstas  antes de la ejecución del modelo. \n",
    "\n",
    "En la misma sesión donde se ejecutaran los programas ejecutar la siguiente instrucción:\n",
    "\n",
    "~~~bash\n",
    "export LD_LIBRARY_PATH=$LD_LIBRARY_PATH:$HOME/tmp/2022/wrf/lib\n",
    "~~~\n",
    "\n",
    "En caso de no hacerlo la ejecución de algún programa reportará el siguiente error:\n",
    "\n",
    "~~~bash\n",
    " error while loading shared libraries: libnetcdff.so.7: cannot open shared object file: No such file or directory\n",
    "~~~"
   ]
  },
  {
   "cell_type": "markdown",
   "id": "expired-pearl",
   "metadata": {},
   "source": [
    "## Ejemplo\n",
    "\n",
    "1. Inicializar variables de entorno para el uso de los compiladores de __INTEL__, utilizados para la compilación del modelo y sus dependencias:\n",
    "~~~bash\n",
    "SETVARS_ARGS=\"--config=/opt/software/apps/intel/oneapi/config.txt\"\n",
    "source /opt/software/apps/intel/oneapi/setvars.sh \n",
    "~~~\n",
    "\n",
    "\n",
    "2. Definir la variable __LD_LIBRARY_PATH__ con la ubicación de las bibliotecas utilizas por el modelo, manteniendo el valor previo de la misma variable:\n",
    "\n",
    "~~~bash\n",
    "export LD_LIBRARY_PATH=$LD_LIBRARY_PATH:$HOME/tmp/2022/wrf/lib\n",
    "~~~\n",
    "\n",
    "3. Hacer uso de los programas del modelo \n"
   ]
  }
 ],
 "metadata": {
  "kernelspec": {
   "display_name": "Python 3",
   "language": "python",
   "name": "python3"
  },
  "language_info": {
   "codemirror_mode": {
    "name": "ipython",
    "version": 3
   },
   "file_extension": ".py",
   "mimetype": "text/x-python",
   "name": "python",
   "nbconvert_exporter": "python",
   "pygments_lexer": "ipython3",
   "version": "3.8.8"
  }
 },
 "nbformat": 4,
 "nbformat_minor": 5
}
