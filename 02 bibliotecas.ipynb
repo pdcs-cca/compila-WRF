{
 "cells": [
  {
   "cell_type": "markdown",
   "id": "saving-innocent",
   "metadata": {},
   "source": [
    "# Zlib"
   ]
  },
  {
   "cell_type": "code",
   "execution_count": 10,
   "id": "alone-yahoo",
   "metadata": {},
   "outputs": [
    {
     "name": "stdout",
     "output_type": "stream",
     "text": [
      "/LUSTRE/tmp/soporte/2022\n",
      " \n",
      ":: initializing oneAPI environment ...\n",
      "   bash: BASH_VERSION = 5.1.4(1)-release\n",
      "   args: Using \"$@\" for setvars.sh arguments: --config=oneapi.conf\n",
      ":: compiler -- latest\n",
      ":: mpi -- latest\n",
      ":: oneAPI environment initialized ::\n",
      " \n",
      "Checking for shared library support...\n",
      "Building shared library libz.so.1.2.12 with icc.\n",
      "Checking for size_t... Yes.\n",
      "Checking for off64_t... Yes.\n",
      "Checking for fseeko... Yes.\n",
      "Checking for strerror... Yes.\n",
      "Checking for unistd.h... Yes.\n",
      "Checking for stdarg.h... Yes.\n",
      "Checking whether to use vs[n]printf() or s[n]printf()... using vs[n]printf().\n",
      "Checking for vsnprintf() in stdio.h... Yes.\n",
      "Checking for return value of vsnprintf()... Yes.\n"
     ]
    }
   ],
   "source": [
    "%%bash -l \n",
    "#Inicializar entorno para el uso de compiladores INTEL\n",
    "pwd\n",
    "source /opt/software/apps/intel/oneapi/setvars.sh --config=oneapi.conf\n",
    "\n",
    "#Definir variables para el uso de los compiladores de intel \n",
    "#para la configuración del código fuente\n",
    "export CC=icc FC=ifort F77=ifort F90=ifort CXX=icpc\n",
    "export CFLAGS=\" -O3 -fPIC\"\n",
    "\n",
    "#Crear el directorio build  si  NO existe\n",
    "test ! -e build && mkdir -v build\n",
    "cd build\n",
    "\n",
    "#Desempaquetar código fuente de zlib\n",
    "tar xzf ../src/zlib-1.2.12.tar.gz\n",
    "cd zlib-1.2.12\n",
    "\n",
    "#Configurar el código fuentes usando los compiladores de intel\n",
    "#previamente se definieron las variables de entorno \n",
    "#CC, FC, F77, F90, CFLAGS \n",
    "\n",
    "#Se indica mediante la opción --prefix  el directorio de instalación \n",
    "./configure --prefix=$HOME/tmp/2022/wrf/"
   ]
  },
  {
   "cell_type": "code",
   "execution_count": 11,
   "id": "seven-scoop",
   "metadata": {},
   "outputs": [
    {
     "name": "stdout",
     "output_type": "stream",
     "text": [
      "/LUSTRE/tmp/soporte/2022\n",
      " \n",
      ":: initializing oneAPI environment ...\n",
      "   bash: BASH_VERSION = 5.1.4(1)-release\n",
      "   args: Using \"$@\" for setvars.sh arguments: --config=oneapi.conf\n",
      ":: compiler -- latest\n",
      ":: mpi -- latest\n",
      ":: oneAPI environment initialized ::\n",
      " \n",
      "icc -O3 -fPIC -D_LARGEFILE64_SOURCE=1 -I. -c -o example.o test/example.c\n",
      "icc -O3 -fPIC -D_LARGEFILE64_SOURCE=1  -c -o adler32.o adler32.c\n",
      "icc -O3 -fPIC -D_LARGEFILE64_SOURCE=1  -c -o crc32.o crc32.c\n",
      "icc -O3 -fPIC -D_LARGEFILE64_SOURCE=1  -c -o deflate.o deflate.c\n",
      "icc -O3 -fPIC -D_LARGEFILE64_SOURCE=1  -c -o infback.o infback.c\n",
      "icc -O3 -fPIC -D_LARGEFILE64_SOURCE=1  -c -o inffast.o inffast.c\n",
      "icc -O3 -fPIC -D_LARGEFILE64_SOURCE=1  -c -o inflate.o inflate.c\n",
      "icc -O3 -fPIC -D_LARGEFILE64_SOURCE=1  -c -o inftrees.o inftrees.c\n",
      "icc -O3 -fPIC -D_LARGEFILE64_SOURCE=1  -c -o trees.o trees.c\n",
      "icc -O3 -fPIC -D_LARGEFILE64_SOURCE=1  -c -o zutil.o zutil.c\n",
      "icc -O3 -fPIC -D_LARGEFILE64_SOURCE=1  -c -o compress.o compress.c\n",
      "icc -O3 -fPIC -D_LARGEFILE64_SOURCE=1  -c -o uncompr.o uncompr.c\n",
      "icc -O3 -fPIC -D_LARGEFILE64_SOURCE=1  -c -o gzclose.o gzclose.c\n",
      "icc -O3 -fPIC -D_LARGEFILE64_SOURCE=1  -c -o gzlib.o gzlib.c\n",
      "icc -O3 -fPIC -D_LARGEFILE64_SOURCE=1  -c -o gzread.o gzread.c\n",
      "icc -O3 -fPIC -D_LARGEFILE64_SOURCE=1  -c -o gzwrite.o gzwrite.c\n",
      "ar rc libz.a adler32.o crc32.o deflate.o infback.o inffast.o inflate.o inftrees.o trees.o zutil.o compress.o uncompr.o gzclose.o gzlib.o gzread.o gzwrite.o \n",
      "icc -O3 -fPIC -D_LARGEFILE64_SOURCE=1 -o example example.o -L. libz.a\n",
      "icc -O3 -fPIC -D_LARGEFILE64_SOURCE=1 -I. -c -o minigzip.o test/minigzip.c\n",
      "icc -O3 -fPIC -D_LARGEFILE64_SOURCE=1 -o minigzip minigzip.o -L. libz.a\n",
      "icc -O3 -fPIC -D_LARGEFILE64_SOURCE=1  -DPIC -c -o objs/adler32.o adler32.c\n",
      "icc -O3 -fPIC -D_LARGEFILE64_SOURCE=1  -DPIC -c -o objs/crc32.o crc32.c\n",
      "icc -O3 -fPIC -D_LARGEFILE64_SOURCE=1  -DPIC -c -o objs/deflate.o deflate.c\n",
      "icc -O3 -fPIC -D_LARGEFILE64_SOURCE=1  -DPIC -c -o objs/infback.o infback.c\n",
      "icc -O3 -fPIC -D_LARGEFILE64_SOURCE=1  -DPIC -c -o objs/inffast.o inffast.c\n",
      "icc -O3 -fPIC -D_LARGEFILE64_SOURCE=1  -DPIC -c -o objs/inflate.o inflate.c\n",
      "icc -O3 -fPIC -D_LARGEFILE64_SOURCE=1  -DPIC -c -o objs/inftrees.o inftrees.c\n",
      "icc -O3 -fPIC -D_LARGEFILE64_SOURCE=1  -DPIC -c -o objs/trees.o trees.c\n",
      "icc -O3 -fPIC -D_LARGEFILE64_SOURCE=1  -DPIC -c -o objs/zutil.o zutil.c\n",
      "icc -O3 -fPIC -D_LARGEFILE64_SOURCE=1  -DPIC -c -o objs/compress.o compress.c\n",
      "icc -O3 -fPIC -D_LARGEFILE64_SOURCE=1  -DPIC -c -o objs/uncompr.o uncompr.c\n",
      "icc -O3 -fPIC -D_LARGEFILE64_SOURCE=1  -DPIC -c -o objs/gzclose.o gzclose.c\n",
      "icc -O3 -fPIC -D_LARGEFILE64_SOURCE=1  -DPIC -c -o objs/gzlib.o gzlib.c\n",
      "icc -O3 -fPIC -D_LARGEFILE64_SOURCE=1  -DPIC -c -o objs/gzread.o gzread.c\n",
      "icc -O3 -fPIC -D_LARGEFILE64_SOURCE=1  -DPIC -c -o objs/gzwrite.o gzwrite.c\n",
      "cc -shared -O3 -fPIC -D_LARGEFILE64_SOURCE=1 -o libz.so.1.2.12 adler32.lo crc32.lo deflate.lo infback.lo inffast.lo inflate.lo inftrees.lo trees.lo zutil.lo compress.lo uncompr.lo gzclose.lo gzlib.lo gzread.lo gzwrite.lo  -lc \n",
      "rm -f libz.so libz.so.1\n",
      "ln -s libz.so.1.2.12 libz.so\n",
      "ln -s libz.so.1.2.12 libz.so.1\n",
      "icc -O3 -fPIC -D_LARGEFILE64_SOURCE=1 -o examplesh example.o -L. libz.so.1.2.12\n",
      "icc -O3 -fPIC -D_LARGEFILE64_SOURCE=1 -o minigzipsh minigzip.o -L. libz.so.1.2.12\n",
      "icc -O3 -fPIC -D_LARGEFILE64_SOURCE=1 -I. -D_FILE_OFFSET_BITS=64 -c -o example64.o test/example.c\n",
      "icc -O3 -fPIC -D_LARGEFILE64_SOURCE=1 -o example64 example64.o -L. libz.a\n",
      "icc -O3 -fPIC -D_LARGEFILE64_SOURCE=1 -I. -D_FILE_OFFSET_BITS=64 -c -o minigzip64.o test/minigzip.c\n",
      "icc -O3 -fPIC -D_LARGEFILE64_SOURCE=1 -o minigzip64 minigzip64.o -L. libz.a\n"
     ]
    }
   ],
   "source": [
    "%%bash -l \n",
    "pwd\n",
    "source /opt/software/apps/intel/oneapi/setvars.sh --config=oneapi.conf\n",
    "\n",
    "#Ingresar al directorio del código fuente previamente desempaquetado \n",
    "#y configurado.  \n",
    "#Utilizar la herramienta make para la construcción de la biblioteca zlib\n",
    "cd build/zlib-1.2.12\n",
    "make "
   ]
  }
 ],
 "metadata": {
  "kernelspec": {
   "display_name": "Python 3",
   "language": "python",
   "name": "python3"
  },
  "language_info": {
   "codemirror_mode": {
    "name": "ipython",
    "version": 3
   },
   "file_extension": ".py",
   "mimetype": "text/x-python",
   "name": "python",
   "nbconvert_exporter": "python",
   "pygments_lexer": "ipython3",
   "version": "3.8.8"
  }
 },
 "nbformat": 4,
 "nbformat_minor": 5
}
